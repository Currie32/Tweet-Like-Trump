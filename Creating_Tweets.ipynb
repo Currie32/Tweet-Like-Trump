{
 "cells": [
  {
   "cell_type": "markdown",
   "metadata": {},
   "source": [
    "# Tweet like Trump: a one2seq Model"
   ]
  },
  {
   "cell_type": "markdown",
   "metadata": {},
   "source": [
    "In this project we are going to build a model that takes a single value as an input, and outputs a tweet similar to those of [Donald Trump](https://twitter.com/realDonaldTrump). \n",
    "\n",
    "To create the inputs, we are going to do the following steps:\n",
    "- Clean Trump's tweets.\n",
    "- Create words vectors using pre-trained word vectors ([GloVe - Twitter 200d](https://nlp.stanford.edu/projects/glove/)).\n",
    "- Average the dimensions of a tweet's word vectors.\n",
    "- Use PCA to reduce the dimensions to 1.\n",
    "- Order the tweets by their PCA values.\n",
    "\n",
    "With this method, we will be able to produce tweets that are similar to their adjacent input values and analyze the context of Trump's tweets. To put another way, we will be able to, reasonably, control the style of the tweet that we want to generate, and the context, but to a lesser degree. "
   ]
  },
  {
   "cell_type": "code",
   "execution_count": 6,
   "metadata": {
    "collapsed": true
   },
   "outputs": [],
   "source": [
    "import pandas as pd\n",
    "import numpy as np\n",
    "import tensorflow as tf\n",
    "import time\n",
    "import re\n",
    "import operator\n",
    "import matplotlib.pyplot as plt \n",
    "from sklearn.decomposition import PCA\n",
    "from sklearn.cluster import KMeans\n",
    "from sklearn.manifold import TSNE\n",
    "from operator import itemgetter"
   ]
  },
  {
   "cell_type": "code",
   "execution_count": 7,
   "metadata": {
    "collapsed": false
   },
   "outputs": [],
   "source": [
    "# Import our data\n",
    "train = pd.read_csv(\"tweets.csv\")"
   ]
  },
  {
   "cell_type": "markdown",
   "metadata": {},
   "source": [
    "## Inspect the data"
   ]
  },
  {
   "cell_type": "code",
   "execution_count": 8,
   "metadata": {
    "collapsed": false
   },
   "outputs": [
    {
     "data": {
      "text/html": [
       "<div>\n",
       "<table border=\"1\" class=\"dataframe\">\n",
       "  <thead>\n",
       "    <tr style=\"text-align: right;\">\n",
       "      <th></th>\n",
       "      <th>Date</th>\n",
       "      <th>Time</th>\n",
       "      <th>Tweet_Text</th>\n",
       "      <th>Type</th>\n",
       "      <th>Media_Type</th>\n",
       "      <th>Hashtags</th>\n",
       "      <th>Tweet_Id</th>\n",
       "      <th>Tweet_Url</th>\n",
       "      <th>twt_favourites_IS_THIS_LIKE_QUESTION_MARK</th>\n",
       "      <th>Retweets</th>\n",
       "      <th>Unnamed: 10</th>\n",
       "      <th>Unnamed: 11</th>\n",
       "    </tr>\n",
       "  </thead>\n",
       "  <tbody>\n",
       "    <tr>\n",
       "      <th>0</th>\n",
       "      <td>16-11-11</td>\n",
       "      <td>15:26:37</td>\n",
       "      <td>Today we express our deepest gratitude to all ...</td>\n",
       "      <td>text</td>\n",
       "      <td>photo</td>\n",
       "      <td>ThankAVet</td>\n",
       "      <td>7.970000e+17</td>\n",
       "      <td>https://twitter.com/realDonaldTrump/status/797...</td>\n",
       "      <td>127213</td>\n",
       "      <td>41112</td>\n",
       "      <td>NaN</td>\n",
       "      <td>NaN</td>\n",
       "    </tr>\n",
       "    <tr>\n",
       "      <th>1</th>\n",
       "      <td>16-11-11</td>\n",
       "      <td>13:33:35</td>\n",
       "      <td>Busy day planned in New York. Will soon be mak...</td>\n",
       "      <td>text</td>\n",
       "      <td>NaN</td>\n",
       "      <td>NaN</td>\n",
       "      <td>7.970000e+17</td>\n",
       "      <td>https://twitter.com/realDonaldTrump/status/797...</td>\n",
       "      <td>141527</td>\n",
       "      <td>28654</td>\n",
       "      <td>NaN</td>\n",
       "      <td>NaN</td>\n",
       "    </tr>\n",
       "    <tr>\n",
       "      <th>2</th>\n",
       "      <td>16-11-11</td>\n",
       "      <td>11:14:20</td>\n",
       "      <td>Love the fact that the small groups of protest...</td>\n",
       "      <td>text</td>\n",
       "      <td>NaN</td>\n",
       "      <td>NaN</td>\n",
       "      <td>7.970000e+17</td>\n",
       "      <td>https://twitter.com/realDonaldTrump/status/797...</td>\n",
       "      <td>183729</td>\n",
       "      <td>50039</td>\n",
       "      <td>NaN</td>\n",
       "      <td>NaN</td>\n",
       "    </tr>\n",
       "    <tr>\n",
       "      <th>3</th>\n",
       "      <td>16-11-11</td>\n",
       "      <td>2:19:44</td>\n",
       "      <td>Just had a very open and successful presidenti...</td>\n",
       "      <td>text</td>\n",
       "      <td>NaN</td>\n",
       "      <td>NaN</td>\n",
       "      <td>7.970000e+17</td>\n",
       "      <td>https://twitter.com/realDonaldTrump/status/796...</td>\n",
       "      <td>214001</td>\n",
       "      <td>67010</td>\n",
       "      <td>NaN</td>\n",
       "      <td>NaN</td>\n",
       "    </tr>\n",
       "    <tr>\n",
       "      <th>4</th>\n",
       "      <td>16-11-11</td>\n",
       "      <td>2:10:46</td>\n",
       "      <td>A fantastic day in D.C. Met with President Oba...</td>\n",
       "      <td>text</td>\n",
       "      <td>NaN</td>\n",
       "      <td>NaN</td>\n",
       "      <td>7.970000e+17</td>\n",
       "      <td>https://twitter.com/realDonaldTrump/status/796...</td>\n",
       "      <td>178499</td>\n",
       "      <td>36688</td>\n",
       "      <td>NaN</td>\n",
       "      <td>NaN</td>\n",
       "    </tr>\n",
       "  </tbody>\n",
       "</table>\n",
       "</div>"
      ],
      "text/plain": [
       "       Date      Time                                         Tweet_Text  \\\n",
       "0  16-11-11  15:26:37  Today we express our deepest gratitude to all ...   \n",
       "1  16-11-11  13:33:35  Busy day planned in New York. Will soon be mak...   \n",
       "2  16-11-11  11:14:20  Love the fact that the small groups of protest...   \n",
       "3  16-11-11   2:19:44  Just had a very open and successful presidenti...   \n",
       "4  16-11-11   2:10:46  A fantastic day in D.C. Met with President Oba...   \n",
       "\n",
       "   Type Media_Type   Hashtags      Tweet_Id  \\\n",
       "0  text      photo  ThankAVet  7.970000e+17   \n",
       "1  text        NaN        NaN  7.970000e+17   \n",
       "2  text        NaN        NaN  7.970000e+17   \n",
       "3  text        NaN        NaN  7.970000e+17   \n",
       "4  text        NaN        NaN  7.970000e+17   \n",
       "\n",
       "                                           Tweet_Url  \\\n",
       "0  https://twitter.com/realDonaldTrump/status/797...   \n",
       "1  https://twitter.com/realDonaldTrump/status/797...   \n",
       "2  https://twitter.com/realDonaldTrump/status/797...   \n",
       "3  https://twitter.com/realDonaldTrump/status/796...   \n",
       "4  https://twitter.com/realDonaldTrump/status/796...   \n",
       "\n",
       "   twt_favourites_IS_THIS_LIKE_QUESTION_MARK  Retweets  Unnamed: 10  \\\n",
       "0                                     127213     41112          NaN   \n",
       "1                                     141527     28654          NaN   \n",
       "2                                     183729     50039          NaN   \n",
       "3                                     214001     67010          NaN   \n",
       "4                                     178499     36688          NaN   \n",
       "\n",
       "   Unnamed: 11  \n",
       "0          NaN  \n",
       "1          NaN  \n",
       "2          NaN  \n",
       "3          NaN  \n",
       "4          NaN  "
      ]
     },
     "execution_count": 8,
     "metadata": {},
     "output_type": "execute_result"
    }
   ],
   "source": [
    "train.head()"
   ]
  },
  {
   "cell_type": "code",
   "execution_count": 9,
   "metadata": {
    "collapsed": false
   },
   "outputs": [
    {
     "data": {
      "text/plain": [
       "(7375, 12)"
      ]
     },
     "execution_count": 9,
     "metadata": {},
     "output_type": "execute_result"
    }
   ],
   "source": [
    "train.shape"
   ]
  },
  {
   "cell_type": "code",
   "execution_count": 10,
   "metadata": {
    "collapsed": false
   },
   "outputs": [],
   "source": [
    "# Create a variable for the tweets\n",
    "tweets = train.Tweet_Text"
   ]
  },
  {
   "cell_type": "code",
   "execution_count": 11,
   "metadata": {
    "collapsed": false
   },
   "outputs": [
    {
     "name": "stdout",
     "output_type": "stream",
     "text": [
      "Today we express our deepest gratitude to all those who have served in our armed forces. #ThankAVet https://t.co/wPk7QWpK8Z\n",
      "\n",
      "Busy day planned in New York. Will soon be making some very important decisions on the people who will be running our government!\n",
      "\n",
      "Love the fact that the small groups of protesters last night have passion for our great country. We will all come together and be proud!\n",
      "\n",
      "Just had a very open and successful presidential election. Now professional protesters, incited by the media, are protesting. Very unfair!\n",
      "\n",
      "A fantastic day in D.C. Met with President Obama for first time. Really good meeting, great chemistry. Melania liked Mrs. O a lot!\n",
      "\n",
      "Happy 241st birthday to the U.S. Marine Corps! Thank you for your service!! https://t.co/Lz2dhrXzo4\n",
      "\n",
      "Such a beautiful and important evening! The forgotten man and woman will never be forgotten again. We will all come together as never before\n",
      "\n",
      "Watching the returns at 9:45pm.\n",
      "#ElectionNight #MAGA__ https://t.co/HfuJeRZbod\n",
      "\n",
      "RT @IvankaTrump: Such a surreal moment to vote for my father for President of the United States! Make your voice heard and vote! #Election2_\n",
      "\n",
      "RT @EricTrump: Join my family in this incredible movement to #MakeAmericaGreatAgain!! Now it is up to you! Please #VOTE for America! https:_\n",
      "\n"
     ]
    }
   ],
   "source": [
    "# Inspect some of the tweets\n",
    "x = 0\n",
    "for i in range(x,x+10):\n",
    "    print(tweets[i])\n",
    "    print()"
   ]
  },
  {
   "cell_type": "markdown",
   "metadata": {},
   "source": [
    "# Prepare the Input Data"
   ]
  },
  {
   "cell_type": "code",
   "execution_count": 12,
   "metadata": {
    "collapsed": true
   },
   "outputs": [],
   "source": [
    "def clean_tweet(tweet):\n",
    "    '''Remove unwanted characters and format the text to create fewer nulls word embeddings'''\n",
    "    tweet = tweet.lower()\n",
    "    tweet = re.sub(r'https?:\\/\\/.*[\\r\\n]*', '', tweet, flags=re.MULTILINE)\n",
    "    tweet = re.sub(r'[_\"\\-;%()|.,+&=*%]', '', tweet)\n",
    "    tweet = re.sub(r'\\.', ' . ', tweet)\n",
    "    tweet = re.sub(r'\\!', ' !', tweet)\n",
    "    tweet = re.sub(r'\\?', ' ?', tweet)\n",
    "    tweet = re.sub(r'\\,', ' ,', tweet)\n",
    "    tweet = re.sub(r':', ' : ', tweet)\n",
    "    tweet = re.sub(r'#', ' # ', tweet)\n",
    "    tweet = re.sub(r'@', ' @ ', tweet)\n",
    "    tweet = re.sub(r'd .c .', 'd.c.', tweet)\n",
    "    tweet = re.sub(r'u .s .', 'd.c.', tweet)\n",
    "    tweet = re.sub(r' amp ', ' and ', tweet)\n",
    "    tweet = re.sub(r'pm', ' pm ', tweet)\n",
    "    tweet = re.sub(r'news', ' news ', tweet)\n",
    "    tweet = re.sub(r' . . . ', ' ', tweet)\n",
    "    tweet = re.sub(r' .  .  . ', ' ', tweet)\n",
    "    tweet = re.sub(r' ! ! ', ' ! ', tweet)\n",
    "    tweet = re.sub(r'&amp', 'and', tweet)\n",
    "    return tweet"
   ]
  },
  {
   "cell_type": "code",
   "execution_count": 13,
   "metadata": {
    "collapsed": false
   },
   "outputs": [],
   "source": [
    "# Clean the tweets and append those with a length > 0 to the clean_tweets list\n",
    "clean_tweets = []\n",
    "for tweet in tweets:\n",
    "    tweet = clean_tweet(tweet)\n",
    "    if len(tweet) > 0:\n",
    "        clean_tweets.append(tweet)"
   ]
  },
  {
   "cell_type": "code",
   "execution_count": 15,
   "metadata": {
    "collapsed": false
   },
   "outputs": [
    {
     "name": "stdout",
     "output_type": "stream",
     "text": [
      "today we express our deepest gratitude to all those who have served in our armed forces  # thankavet \n",
      "\n",
      "busy day planned in new york will soon be making some very important decisions on the people who will be running our government !\n",
      "\n",
      "love the fact that the small groups of protesters last night have passion for our great country we will all come together and be proud !\n",
      "\n",
      "just had a very open and successful presidential election now professional protesters incited by the media are protesting very unfair !\n",
      "\n",
      "a fantastic day in dc met with president obama for first time really good meeting great chemistry melania liked mrs o a lot !\n",
      "\n",
      "happy 241st birthday to the us marine corps ! thank you for your service ! \n",
      "\n",
      "such a beautiful and important evening ! the forgotten man and woman will never be forgotten again we will all come together as never before\n",
      "\n",
      "watching the returns at 9 : 45 pm \n",
      " # electionnight  # maga \n",
      "\n",
      "rt  @ ivankatrump :  such a surreal moment to vote for my father for president of the united states ! make your voice heard and vote !  # election2\n",
      "\n",
      "rt  @ erictrump :  join my family in this incredible movement to  # makeamericagreatagain ! now it is up to you ! please  # vote for america ! https : \n",
      "\n"
     ]
    }
   ],
   "source": [
    "# Check to ensure the tweets have been clean properly\n",
    "x = 0\n",
    "for i in range(x,x+10):\n",
    "    print(clean_tweets[i])  \n",
    "    print()"
   ]
  },
  {
   "cell_type": "code",
   "execution_count": 16,
   "metadata": {
    "collapsed": false
   },
   "outputs": [
    {
     "name": "stdout",
     "output_type": "stream",
     "text": [
      "Size of Vocabulary: 11612\n"
     ]
    }
   ],
   "source": [
    "# Count the total number of occurences of each word\n",
    "word_counts = {}\n",
    "for tweet in clean_tweets:\n",
    "    for word in tweet.split():\n",
    "        if word not in word_counts:\n",
    "            word_counts[word] = 1\n",
    "        else:\n",
    "            word_counts[word] += 1\n",
    "print(\"Size of Vocabulary:\", len(word_counts.keys()))"
   ]
  },
  {
   "cell_type": "code",
   "execution_count": 17,
   "metadata": {
    "collapsed": false
   },
   "outputs": [
    {
     "name": "stdout",
     "output_type": "stream",
     "text": [
      "Word embeddings: 1193514\n"
     ]
    }
   ],
   "source": [
    "# Load GloVe's embeddings\n",
    "embeddings_index = {}\n",
    "with open('/Users/Dave/Desktop/Programming/glove.twitter.27B/glove.twitter.27B.200d.txt', encoding='utf-8') as f:\n",
    "    for line in f:\n",
    "        values = line.split(' ')\n",
    "        word = values[0]\n",
    "        embedding = np.asarray(values[1:], dtype='float32')\n",
    "        embeddings_index[word] = embedding\n",
    "\n",
    "print('Word embeddings:', len(embeddings_index))"
   ]
  },
  {
   "cell_type": "code",
   "execution_count": 18,
   "metadata": {
    "collapsed": false
   },
   "outputs": [
    {
     "name": "stdout",
     "output_type": "stream",
     "text": [
      "Total Number of Embeddings: 138153\n",
      "Number of Null Embeddings: 12386\n",
      "% of Embeddings that are Null: 8.97%\n"
     ]
    }
   ],
   "source": [
    "# Create an 'average' embedding for each tweet\n",
    "\n",
    "embedding_dim = 200 # Use 200 to match GloVe's embedding size\n",
    "\n",
    "embed_tweets = [] # Contains the 'average' embedding for each tweet\n",
    "total_embeds = 0 \n",
    "null_embeds = 0 \n",
    "\n",
    "for tweet in clean_tweets:\n",
    "    avg_embed = np.zeros(embedding_dim) # Set default embedding for each tweet\n",
    "    for word in tweet.split():\n",
    "        total_embeds += 1\n",
    "        embed = embeddings_index.get(word)\n",
    "        if embed is not None:\n",
    "            avg_embed += embed # Add embedding's values to vectors\n",
    "        else:\n",
    "            null_embeds += 1\n",
    "    embed_tweets.append(avg_embed/len(tweet.split()))\n",
    "\n",
    "print(\"Total Number of Embeddings:\", total_embeds)\n",
    "print(\"Number of Null Embeddings:\", null_embeds)\n",
    "print(\"% of Embeddings that are Null: {}%\".format(round(null_embeds/total_embeds,4)*100))"
   ]
  },
  {
   "cell_type": "code",
   "execution_count": 19,
   "metadata": {
    "collapsed": false
   },
   "outputs": [],
   "source": [
    "# Reduce the dimensions of each tweet to 1\n",
    "pca = PCA(n_components=1, random_state = 2)\n",
    "pca_tweets = pca.fit_transform(embed_tweets)"
   ]
  },
  {
   "cell_type": "code",
   "execution_count": 20,
   "metadata": {
    "collapsed": false
   },
   "outputs": [],
   "source": [
    "# Order the tweets based on their PCA values, from low to high\n",
    "# Similar tweets will be closer together\n",
    "pca_tweets_list = [] # Contains the pca values\n",
    "for tweet in pca_tweets:\n",
    "    pca_tweets_list.append(tweet[0])\n",
    "\n",
    "order = np.array(pca_tweets_list).argsort()\n",
    "pca_labels = order.argsort()\n",
    "pca_labels *= 2 # Multiple the labels by 2 so generated tweets can have odd values and \n",
    "                # Even values will represent tweets that were used for training"
   ]
  },
  {
   "cell_type": "code",
   "execution_count": 21,
   "metadata": {
    "collapsed": false
   },
   "outputs": [
    {
     "data": {
      "text/plain": [
       "array([ 4540,   464,   206,  4652,  5004,  4932,   196, 13660,  6736,  8018])"
      ]
     },
     "execution_count": 21,
     "metadata": {},
     "output_type": "execute_result"
    }
   ],
   "source": [
    "# Inspect pca_labels\n",
    "pca_labels[:10]"
   ]
  },
  {
   "cell_type": "code",
   "execution_count": 22,
   "metadata": {
    "collapsed": false
   },
   "outputs": [],
   "source": [
    "# Group tweets by similarity\n",
    "kmeans = KMeans(n_clusters=4, max_iter = 1000, n_init = 20, random_state=2).fit(pca_tweets)\n",
    "labels = kmeans.labels_"
   ]
  },
  {
   "cell_type": "markdown",
   "metadata": {},
   "source": [
    "Note: After checking the results of using 3 - 10 clusters, I thought 4 clusters can best sort Trump's tweets into distinct groups."
   ]
  },
  {
   "cell_type": "code",
   "execution_count": 23,
   "metadata": {
    "collapsed": false
   },
   "outputs": [
    {
     "data": {
      "text/plain": [
       "3    2782\n",
       "1    2600\n",
       "2    1674\n",
       "0     315\n",
       "Name: 0, dtype: int64"
      ]
     },
     "execution_count": 23,
     "metadata": {},
     "output_type": "execute_result"
    }
   ],
   "source": [
    "# The number of tweets in each group.\n",
    "pd.DataFrame(labels)[0].value_counts()"
   ]
  },
  {
   "cell_type": "code",
   "execution_count": 24,
   "metadata": {
    "collapsed": true
   },
   "outputs": [],
   "source": [
    "# Words to not include when finding the most common words in each group\n",
    "stop_words = ['be','on','!','at','.',':','...','@',',','#','will','.m','in','a','the','with','to','by','and','my','is',\n",
    "              'of','for','new','via','are','that','has','have','all','as','it','so','they','do','he','just','this',\n",
    "              'was','who','your','from','his','about','get','but','am','up','if','can','would','than','should','dont',\n",
    "              'had','or','were','did','there','got','even','its','an']"
   ]
  },
  {
   "cell_type": "code",
   "execution_count": 27,
   "metadata": {
    "collapsed": false
   },
   "outputs": [],
   "source": [
    "def top_n_words(group, n_words):\n",
    "    '''Find the n most common words in each group'''\n",
    "    vocab = {} # Create the vocabulary for each group\n",
    "    for i in range(len(clean_tweets)):\n",
    "        if labels[i] == group:\n",
    "            for word in clean_tweets[i].split():\n",
    "                if word not in vocab:\n",
    "                    vocab[word] = 1\n",
    "                else:\n",
    "                    vocab[word] += 1\n",
    "      \n",
    "    # Sort the vocab from most to least common words\n",
    "    sorted_vocab = sorted(vocab.items(), key=operator.itemgetter(1), reverse=True)\n",
    "    top_n_words = []\n",
    "    for word, value in sorted_vocab:\n",
    "        if word not in stop_words:\n",
    "            top_n_words.append(word)\n",
    "        if len(top_n_words) == n_words:\n",
    "            break\n",
    "    print(top_n_words)"
   ]
  },
  {
   "cell_type": "code",
   "execution_count": 28,
   "metadata": {
    "collapsed": false
   },
   "outputs": [
    {
     "name": "stdout",
     "output_type": "stream",
     "text": [
      "Group # 1\n",
      "['trump2016', 'makeamericagreatagain', 'realdonaldtrump', 'trump', 'rt', 'poll', 'danscavino', 'news', 'gop', '1']\n",
      "Group # 2\n",
      "['realdonaldtrump', 'you', 'trump', 'i', 'great', 'thank', 'we', 'news', 'america', 'rt']\n",
      "Group # 3\n",
      "['realdonaldtrump', 'trump', 'you', 'trump2016', 'thank', 'makeamericagreatagain', 'rt', 'news', 'poll', 'donald']\n",
      "Group # 4\n",
      "['i', 'you', 'great', 'we', 'not', 'me', 'people', 'hillary', 'thank', 'our']\n"
     ]
    }
   ],
   "source": [
    "# The most common words in each group\n",
    "groups = len(np.unique(labels))\n",
    "for i in range(groups):\n",
    "    print(\"Group #\",i+1)\n",
    "    top_n_words(i, 10)"
   ]
  },
  {
   "cell_type": "code",
   "execution_count": 29,
   "metadata": {
    "collapsed": false
   },
   "outputs": [
    {
     "name": "stdout",
     "output_type": "stream",
     "text": [
      "Trump's 100 most popular tweeted words (not including stop words):\n",
      "['you', 'i', 'realdonaldtrump', 'trump', 'great', 'thank', 'we', 'trump2016', 'me', 'hillary', 'news', 'not', 'makeamericagreatagain', 'america', 'rt', 'people', 'our', '?', 'fox', 'out', 'poll', 'make', 'no', 'again', 'donald', 'very', 'clinton', 'cnn', 'now', 'pm', 'president', 'like', 'more', 'big', 'vote', 'debate', 'tonight', 'she', 'what', 'time', 'us', 'one', 'cruz', 'her', 'crooked', 'going', 'only', 'country', 'last', 'why', 'today', 'back', 'join', 'said', 'many', 'never', 'him', 'good', 'iowa', 'been', 'watch', 'much', 'how', 'win', 'when', 'night', 'love', 'want', 'media', 'enjoy', 'polls', 'bad', 'gop', 'support', 'tomorrow', 'go', 'job', 'campaign', 'see', 'interviewed', 'rubio', 'jeb', 'crowd', 'amazing', 'ted', 'their', 'cant', 'need', 'really', 'nice', 'them', 'thanks', 'wow', 'show', '00', 'obama', '7', 'over', 'speech', 'way']\n"
     ]
    }
   ],
   "source": [
    "# The most common words for all of Trump's tweets\n",
    "n_words = 100\n",
    "sorted_vocab = sorted(word_counts.items(), key=operator.itemgetter(1), reverse=True)\n",
    "top_n_words = []\n",
    "for word, value in sorted_vocab:\n",
    "    if word not in stop_words:\n",
    "        top_n_words.append(word)\n",
    "    if len(top_n_words) == n_words:\n",
    "        break\n",
    "print(\"Trump's {} most popular tweeted words (not including stop words):\".format(n_words))\n",
    "print(top_n_words)"
   ]
  },
  {
   "cell_type": "code",
   "execution_count": 30,
   "metadata": {
    "collapsed": true
   },
   "outputs": [],
   "source": [
    "def print_tweet_group(group, n_tweets):\n",
    "    '''Prints the first n_tweets in a group'''\n",
    "    count = 1\n",
    "    for i in range(len(clean_tweets)):\n",
    "        if labels[i] == group:\n",
    "            print(\"#{}: {}\".format(count, clean_tweets[i]))\n",
    "            count += 1\n",
    "            if count == n_tweets+1:\n",
    "                break"
   ]
  },
  {
   "cell_type": "code",
   "execution_count": 31,
   "metadata": {
    "collapsed": false
   },
   "outputs": [
    {
     "name": "stdout",
     "output_type": "stream",
     "text": [
      "Group # 1\n",
      "#1:  # electionday \n",
      "#2: rt  @ donaldjtrumpjr :  thanks new hampshire ! !\n",
      " # nh  # newhampshire  # maga \n",
      "#3:  # draintheswamp !\n",
      "\n",
      "#4:  # makeamericagreatagain  # 6days \n",
      "#5:  @ pynance :  evangelical women live at  # trumptower  @ pdpryor1  @ cissieglynch  @ saysgabrielle \n",
      "\n",
      "Group # 2\n",
      "#1: rt  @ ivankatrump :  such a surreal moment to vote for my father for president of the united states ! make your voice heard and vote !  # election2\n",
      "#2: rt  @ erictrump :  join my family in this incredible movement to  # makeamericagreatagain ! now it is up to you ! please  # vote for america ! https : \n",
      "#3: rt  @ donaldjtrumpjr :  final push ! eric and i doing dozens of radio interviews we can win this thing ! get out and vote !  # maga  # electionday ht\n",
      "#4: just out according to  @ cnn :  utah officials report voting machine problems across entire country\n",
      "#5: rt  @ erictrump :  sean hannity :  if hillary wins you own it \n",
      "\n",
      "Group # 3\n",
      "#1: watching the returns at 9 : 45 pm \n",
      " # electionnight  # maga \n",
      "#2: still time to  # votetrump !\n",
      " # ivoted  # electionnight \n",
      "#3: hey missouri lets defeat crooked hillary and  @ koster4missouri ! koster supports obamacare and amnesty ! vote outsider navy seal  @ ericgreitens !\n",
      "#4: monday  11/7/2016\n",
      "\n",
      "scranton pennsylvania at 5 : 30 pm \n",
      "grand rapids michigan at 11 pm  \n",
      "#5: rt  @ ivankatrump :  thank you new hampshire !  \n",
      "\n",
      "Group # 4\n",
      "#1: today we express our deepest gratitude to all those who have served in our armed forces  # thankavet \n",
      "#2: busy day planned in new york will soon be making some very important decisions on the people who will be running our government !\n",
      "#3: love the fact that the small groups of protesters last night have passion for our great country we will all come together and be proud !\n",
      "#4: just had a very open and successful presidential election now professional protesters incited by the media are protesting very unfair !\n",
      "#5: a fantastic day in dc met with president obama for first time really good meeting great chemistry melania liked mrs o a lot !\n",
      "\n"
     ]
    }
   ],
   "source": [
    "# Print the first few tweets in each group\n",
    "n_tweets = 5\n",
    "for i in range(groups):\n",
    "    print(\"Group #\",i+1)\n",
    "    print_tweet_group(i,n_tweets)\n",
    "    print()"
   ]
  },
  {
   "cell_type": "markdown",
   "metadata": {},
   "source": [
    "The four groups look like they can be categorized as:\n",
    "1. Short with many # or @\n",
    "2. Retweets with long texts\n",
    "3. Relating to data/time/location\n",
    "4. Longer tweets written by Trump"
   ]
  },
  {
   "cell_type": "code",
   "execution_count": 34,
   "metadata": {
    "collapsed": false
   },
   "outputs": [],
   "source": [
    "# Visualize the tweets with TSNE\n",
    "model = TSNE(n_components=2, random_state=2)\n",
    "TSNE_tweets = model.fit_transform(embed_tweets)"
   ]
  },
  {
   "cell_type": "code",
   "execution_count": 35,
   "metadata": {
    "collapsed": false
   },
   "outputs": [
    {
     "name": "stderr",
     "output_type": "stream",
     "text": [
      "//anaconda/lib/python3.5/site-packages/matplotlib/axes/_axes.py:531: UserWarning: No labelled objects found. Use label='...' kwarg on individual plots.\n",
      "  warnings.warn(\"No labelled objects found. \"\n",
      "//anaconda/lib/python3.5/site-packages/matplotlib/legend.py:633: UserWarning: Legend does not support 0 instances.\n",
      "A proxy artist may be used instead.\n",
      "See: http://matplotlib.org/users/legend_guide.html#using-proxy-artist\n",
      "  \"#using-proxy-artist\".format(orig_handle)\n",
      "//anaconda/lib/python3.5/site-packages/matplotlib/legend.py:633: UserWarning: Legend does not support 1 instances.\n",
      "A proxy artist may be used instead.\n",
      "See: http://matplotlib.org/users/legend_guide.html#using-proxy-artist\n",
      "  \"#using-proxy-artist\".format(orig_handle)\n",
      "//anaconda/lib/python3.5/site-packages/matplotlib/legend.py:633: UserWarning: Legend does not support 2 instances.\n",
      "A proxy artist may be used instead.\n",
      "See: http://matplotlib.org/users/legend_guide.html#using-proxy-artist\n",
      "  \"#using-proxy-artist\".format(orig_handle)\n",
      "//anaconda/lib/python3.5/site-packages/matplotlib/legend.py:633: UserWarning: Legend does not support 3 instances.\n",
      "A proxy artist may be used instead.\n",
      "See: http://matplotlib.org/users/legend_guide.html#using-proxy-artist\n",
      "  \"#using-proxy-artist\".format(orig_handle)\n"
     ]
    },
    {
     "data": {
      "text/plain": [
       "<matplotlib.figure.Figure at 0x1185d9fd0>"
      ]
     },
     "metadata": {},
     "output_type": "display_data"
    },
    {
     "data": {
      "image/png": "[encoded data removed]",
      "text/plain": [
       "<matplotlib.figure.Figure at 0x1185f9128>"
      ]
     },
     "metadata": {},
     "output_type": "display_data"
    }
   ],
   "source": [
    "# Build a scatter plot to visualize the tweets.\n",
    "color_map = {0:'red', 1:'orange', 2:'yellow', 3:'blue'}\n",
    "plt.figure(figsize=(12,5))\n",
    "\n",
    "for i in range(len(TSNE_tweets)):\n",
    "    plt.scatter(x = TSNE_tweets[i][0], \n",
    "                y = TSNE_tweets[i][1],\n",
    "                c = color_map[labels[i]])\n",
    "plt.xlabel('X in t-SNE')\n",
    "plt.ylabel('Y in t-SNE')\n",
    "plt.title('Trump\\'s Tweet Types')\n",
    "\n",
    "offset = 2\n",
    "x_min = min(TSNE_tweets, key=itemgetter(0))[0] - offset\n",
    "x_max = max(TSNE_tweets, key=itemgetter(0))[0] + offset\n",
    "y_min = min(TSNE_tweets, key=itemgetter(1))[1] - offset\n",
    "y_max = max(TSNE_tweets, key=itemgetter(1))[1] + offset\n",
    "\n",
    "axes = plt.gca()\n",
    "axes.set_xlim([x_min,x_max])\n",
    "axes.set_ylim([y_min,y_max])\n",
    "plt.show()"
   ]
  },
  {
   "cell_type": "code",
   "execution_count": 36,
   "metadata": {
    "collapsed": false
   },
   "outputs": [
    {
     "data": {
      "image/png": "[encoded data removed]",
      "text/plain": [
       "<matplotlib.figure.Figure at 0x1185da9e8>"
      ]
     },
     "metadata": {},
     "output_type": "display_data"
    }
   ],
   "source": [
    "# Create a scatterplot to visualize the tweet groups by the PCA labels\n",
    "plt.figure(figsize=(12,3))\n",
    "for i in range(len(TSNE_tweets)):\n",
    "    plt.scatter(x = pca_labels[i], \n",
    "                y = labels[i]+1,\n",
    "                c = color_map[labels[i]])\n",
    "    \n",
    "plt.xlabel('PCA Label')\n",
    "plt.ylabel('Tweet Group')\n",
    "plt.title('PCA Labels vs Tweet Group')\n",
    "    \n",
    "plt.show()"
   ]
  },
  {
   "cell_type": "markdown",
   "metadata": {},
   "source": [
    "There's a little bit of overlap between the PCA labels and tweet groups at the extremes, otherwise, it's really nice to see the tweets organized as well as they are."
   ]
  },
  {
   "cell_type": "code",
   "execution_count": 52,
   "metadata": {
    "collapsed": false
   },
   "outputs": [
    {
     "name": "stdout",
     "output_type": "stream",
     "text": [
      "Total Number of Unique Words: 11612\n",
      "Number of Words we will use: 1375\n",
      "Percent of Words we will use: 11.84%\n"
     ]
    }
   ],
   "source": [
    "# Limit the vocab that we will use to words that appear ≥ threshold \n",
    "\n",
    "threshold = 10\n",
    "\n",
    "#dictionary to convert words to integers\n",
    "vocab_to_int = {} \n",
    "\n",
    "value = 0\n",
    "for word, count in word_counts.items():\n",
    "    if count >= threshold:\n",
    "        vocab_to_int[word] = value\n",
    "        value += 1\n",
    "\n",
    "# Special tokens that will be added to our vocab\n",
    "codes = [\"<UNK>\",\"<GO>\",\"<PAD>\",\"<EOS>\"]   \n",
    "\n",
    "for code in codes:\n",
    "    vocab_to_int[code] = len(vocab_to_int)+1\n",
    "\n",
    "# Dictionary to convert integers to words\n",
    "int_to_vocab = {}\n",
    "for word, value in vocab_to_int.items():\n",
    "    int_to_vocab[value] = word\n",
    "\n",
    "word_ratio = round(len(vocab_to_int) / len(word_counts),4)*100\n",
    "\n",
    "print(\"Total Number of Unique Words:\", len(word_counts))\n",
    "print(\"Number of Words we will use:\", len(vocab_to_int))\n",
    "print(\"Percent of Words we will use: {}%\".format(word_ratio))"
   ]
  },
  {
   "cell_type": "markdown",
   "metadata": {},
   "source": [
    "Note: We could use more words, but that would make it more difficult to train the model. I think it would be better to use fewer words and make very similar tweets than use more words that look less like Trump's tweets."
   ]
  },
  {
   "cell_type": "code",
   "execution_count": 53,
   "metadata": {
    "collapsed": false
   },
   "outputs": [],
   "source": [
    "# Change the tweets from words to integers\n",
    "# If word is not in vocab, replace it with <UNK> (unknown)\n",
    "int_tweets = []\n",
    "\n",
    "for tweet in clean_tweets:\n",
    "    int_tweet = []\n",
    "    for word in tweet.split():\n",
    "        if word in vocab_to_int:\n",
    "            int_tweet.append(vocab_to_int[word])\n",
    "        else:\n",
    "            int_tweet.append(vocab_to_int[\"<UNK>\"])\n",
    "    int_tweets.append(int_tweet)"
   ]
  },
  {
   "cell_type": "code",
   "execution_count": 54,
   "metadata": {
    "collapsed": true
   },
   "outputs": [],
   "source": [
    "# Find the length of tweets\n",
    "lengths = []\n",
    "for tweet in int_tweets:\n",
    "    lengths.append(len(tweet))\n",
    "\n",
    "# Create a dataframe so that the values can be inspected\n",
    "lengths = pd.DataFrame(lengths, columns=['counts'])"
   ]
  },
  {
   "cell_type": "code",
   "execution_count": 55,
   "metadata": {
    "collapsed": false
   },
   "outputs": [
    {
     "data": {
      "text/html": [
       "<div>\n",
       "<table border=\"1\" class=\"dataframe\">\n",
       "  <thead>\n",
       "    <tr style=\"text-align: right;\">\n",
       "      <th></th>\n",
       "      <th>counts</th>\n",
       "    </tr>\n",
       "  </thead>\n",
       "  <tbody>\n",
       "    <tr>\n",
       "      <th>count</th>\n",
       "      <td>7371.000000</td>\n",
       "    </tr>\n",
       "    <tr>\n",
       "      <th>mean</th>\n",
       "      <td>18.742776</td>\n",
       "    </tr>\n",
       "    <tr>\n",
       "      <th>std</th>\n",
       "      <td>6.713868</td>\n",
       "    </tr>\n",
       "    <tr>\n",
       "      <th>min</th>\n",
       "      <td>1.000000</td>\n",
       "    </tr>\n",
       "    <tr>\n",
       "      <th>25%</th>\n",
       "      <td>14.000000</td>\n",
       "    </tr>\n",
       "    <tr>\n",
       "      <th>50%</th>\n",
       "      <td>20.000000</td>\n",
       "    </tr>\n",
       "    <tr>\n",
       "      <th>75%</th>\n",
       "      <td>24.000000</td>\n",
       "    </tr>\n",
       "    <tr>\n",
       "      <th>max</th>\n",
       "      <td>35.000000</td>\n",
       "    </tr>\n",
       "  </tbody>\n",
       "</table>\n",
       "</div>"
      ],
      "text/plain": [
       "            counts\n",
       "count  7371.000000\n",
       "mean     18.742776\n",
       "std       6.713868\n",
       "min       1.000000\n",
       "25%      14.000000\n",
       "50%      20.000000\n",
       "75%      24.000000\n",
       "max      35.000000"
      ]
     },
     "execution_count": 55,
     "metadata": {},
     "output_type": "execute_result"
    }
   ],
   "source": [
    "lengths.describe()"
   ]
  },
  {
   "cell_type": "code",
   "execution_count": 56,
   "metadata": {
    "collapsed": false
   },
   "outputs": [
    {
     "name": "stdout",
     "output_type": "stream",
     "text": [
      "Total Number of Tweets: 7371\n",
      "Number of Tweets we will use: 2205\n",
      "Percent of Tweets we will use: 29.909999999999997%\n"
     ]
    }
   ],
   "source": [
    "# Keep only the tweets that are between the min and max lengths and ≤ the <UNK> limit\n",
    "\n",
    "max_tweet_length = 25\n",
    "min_tweet_length = 1\n",
    "unk_limit = 1\n",
    "\n",
    "short_tweets = []\n",
    "short_labels = []\n",
    "\n",
    "for i in range(len(int_tweets)):\n",
    "    unk_count = 0\n",
    "    if len(int_tweets[i]) <= max_tweet_length and len(int_tweets[i]) >= min_tweet_length:\n",
    "        if len(int_tweets[i]) == 1:\n",
    "            if int_tweets[i][0] != vocab_to_int['<UNK>']:\n",
    "                short_tweets.append(int_tweets[i])\n",
    "                short_labels.append(pca_labels[i])\n",
    "        else:\n",
    "            for word in int_tweets[i]:\n",
    "                if word == vocab_to_int['<UNK>']:\n",
    "                    unk_count += 1\n",
    "            if unk_count <= unk_limit:\n",
    "                short_tweets.append(int_tweets[i])\n",
    "                short_labels.append(pca_labels[i])\n",
    "        \n",
    "\n",
    "usage_precent = round(len(short_tweets)/len(clean_tweets),4)*100\n",
    "        \n",
    "print(\"Total Number of Tweets:\", len(clean_tweets))\n",
    "print(\"Number of Tweets we will use:\", len(short_tweets))\n",
    "print(\"Percent of Tweets we will use: {}%\".format(usage_precent))"
   ]
  },
  {
   "cell_type": "code",
   "execution_count": 57,
   "metadata": {
    "collapsed": false
   },
   "outputs": [
    {
     "name": "stdout",
     "output_type": "stream",
     "text": [
      "2205\n",
      "2205\n"
     ]
    }
   ],
   "source": [
    "# Sort tweets by length to train faster and reduce padding.\n",
    "sorted_tweets = []\n",
    "sorted_labels = []\n",
    "\n",
    "for length in range(1,max_tweet_length+1):\n",
    "    for i in range(len(short_tweets)):\n",
    "        if length == len(short_tweets[i]):\n",
    "            sorted_tweets.append(short_tweets[i])\n",
    "            sorted_labels.append([short_labels[i]])\n",
    "            \n",
    "print(len(sorted_tweets))\n",
    "print(len(sorted_labels))"
   ]
  },
  {
   "cell_type": "code",
   "execution_count": 58,
   "metadata": {
    "collapsed": false
   },
   "outputs": [
    {
     "name": "stdout",
     "output_type": "stream",
     "text": [
      "Total Number of Words: 29533\n",
      "Number of uses of <UNK>: 1246\n",
      "Percent of words that are <UNK>: 4.22%\n"
     ]
    }
   ],
   "source": [
    "# Find the number/ratio of words that are <UNK>\n",
    "n_words = 0\n",
    "unk_words = 0\n",
    "for tweet in sorted_tweets:\n",
    "    for int in tweet:\n",
    "        n_words += 1\n",
    "        if int == vocab_to_int[\"<UNK>\"]:\n",
    "            unk_words += 1\n",
    "            \n",
    "unk_ratio = round(unk_words/n_words,4)*100\n",
    "            \n",
    "print(\"Total Number of Words:\", n_words)\n",
    "print(\"Number of uses of <UNK>:\", unk_words)\n",
    "print(\"Percent of words that are <UNK>: {}%\".format(unk_ratio))"
   ]
  },
  {
   "cell_type": "markdown",
   "metadata": {},
   "source": [
    "Note: I wanted to limit the number of times UNK is used in the training data, which is why the UNK limit is set to just one."
   ]
  },
  {
   "cell_type": "markdown",
   "metadata": {},
   "source": [
    "## Build and Train the Model"
   ]
  },
  {
   "cell_type": "code",
   "execution_count": 59,
   "metadata": {
    "collapsed": true
   },
   "outputs": [],
   "source": [
    "def model_inputs():\n",
    "    '''Create palceholders for inputs to the model'''\n",
    "    input_data = tf.placeholder(tf.int32, [None, None], name='input')\n",
    "    targets = tf.placeholder(tf.int32, [None, None], name='targets')\n",
    "    lr = tf.placeholder(tf.float32, name='learning_rate')\n",
    "    keep_prob = tf.placeholder(tf.float32, name='keep_prob')\n",
    "\n",
    "    return input_data, targets, lr, keep_prob"
   ]
  },
  {
   "cell_type": "code",
   "execution_count": 60,
   "metadata": {
    "collapsed": true
   },
   "outputs": [],
   "source": [
    "def process_encoding_input(target_data, vocab_to_int, batch_size):\n",
    "    '''Remove the last id from each batch and concat the <GO> to the begining of each batch'''\n",
    "    ending = tf.strided_slice(target_data, [0, 0], [batch_size, -1], [1, 1])\n",
    "    dec_input = tf.concat([tf.fill([batch_size, 1], vocab_to_int['<GO>']), ending], 1)\n",
    "\n",
    "    return dec_input"
   ]
  },
  {
   "cell_type": "code",
   "execution_count": 61,
   "metadata": {
    "collapsed": true
   },
   "outputs": [],
   "source": [
    "def encoding_layer(rnn_inputs, rnn_size, num_layers, keep_prob, sequence_length):\n",
    "    '''Create the encoding layer'''\n",
    "    lstm = tf.contrib.rnn.BasicLSTMCell(rnn_size)\n",
    "    enc_cell = tf.contrib.rnn.MultiRNNCell([lstm] * num_layers)\n",
    "    _, enc_state = tf.nn.dynamic_rnn(enc_cell,\n",
    "                                     rnn_inputs, \n",
    "                                     sequence_length,\n",
    "                                     dtype=tf.float32)\n",
    "    return enc_state"
   ]
  },
  {
   "cell_type": "code",
   "execution_count": 62,
   "metadata": {
    "collapsed": true
   },
   "outputs": [],
   "source": [
    "def decoding_layer_train(encoder_state, dec_cell, dec_embed_input, sequence_length, decoding_scope,\n",
    "                         output_fn, keep_prob, batch_size):\n",
    "    '''Decode the training data'''\n",
    "    train_decoder_fn = tf.contrib.seq2seq.simple_decoder_fn_train(encoder_state)\n",
    "    train_pred, _, _ = tf.contrib.seq2seq.dynamic_rnn_decoder(\n",
    "        dec_cell, train_decoder_fn, dec_embed_input, sequence_length, scope=decoding_scope)\n",
    "    train_pred_drop = tf.nn.dropout(train_pred, keep_prob)\n",
    "    return output_fn(train_pred_drop)    "
   ]
  },
  {
   "cell_type": "code",
   "execution_count": 63,
   "metadata": {
    "collapsed": true
   },
   "outputs": [],
   "source": [
    "def decoding_layer_infer(encoder_state, dec_cell, dec_embeddings, start_of_sequence_id, end_of_sequence_id,\n",
    "                         maximum_length, vocab_size, decoding_scope, output_fn):\n",
    "    '''Decode the prediction data'''\n",
    "    infer_decoder_fn = tf.contrib.seq2seq.simple_decoder_fn_inference(\n",
    "        output_fn, encoder_state, dec_embeddings, start_of_sequence_id, end_of_sequence_id, maximum_length, vocab_size)\n",
    "    infer_logits, _, _ = tf.contrib.seq2seq.dynamic_rnn_decoder(\n",
    "        dec_cell, infer_decoder_fn, scope=decoding_scope)\n",
    "    return infer_logits"
   ]
  },
  {
   "cell_type": "code",
   "execution_count": 64,
   "metadata": {
    "collapsed": true
   },
   "outputs": [],
   "source": [
    "def decoding_layer(dec_embed_input, dec_embeddings, encoder_state, vocab_size, sequence_length, rnn_size,\n",
    "                   num_layers, vocab_to_int, keep_prob, batch_size):\n",
    "    '''Create the decoding cell and input the parameters for the training and inference decoding layers'''\n",
    "    with tf.variable_scope(\"decoding\") as decoding_scope:\n",
    "        lstm = tf.contrib.rnn.BasicLSTMCell(rnn_size)\n",
    "        drop = tf.contrib.rnn.DropoutWrapper(lstm, input_keep_prob = keep_prob)\n",
    "        dec_cell = tf.contrib.rnn.MultiRNNCell([drop] * num_layers)\n",
    "        \n",
    "        weights = tf.truncated_normal_initializer(mean = 0.0, stddev=0.1)\n",
    "        biases = tf.zeros_initializer()\n",
    "        output_fn = lambda x: tf.contrib.layers.fully_connected(x, \n",
    "                                                                vocab_size, \n",
    "                                                                None, \n",
    "                                                                scope=decoding_scope,\n",
    "                                                                weights_initializer = weights,\n",
    "                                                                biases_initializer = biases)\n",
    "\n",
    "        train_logits = decoding_layer_train(encoder_state, \n",
    "                                            dec_cell, \n",
    "                                            dec_embed_input, \n",
    "                                            sequence_length, \n",
    "                                            decoding_scope, \n",
    "                                            output_fn, \n",
    "                                            keep_prob, \n",
    "                                            batch_size)\n",
    "        decoding_scope.reuse_variables()\n",
    "        infer_logits = decoding_layer_infer(encoder_state, \n",
    "                                            dec_cell, \n",
    "                                            dec_embeddings, \n",
    "                                            vocab_to_int['<GO>'],\n",
    "                                            vocab_to_int['<EOS>'], \n",
    "                                            sequence_length - 1, \n",
    "                                            vocab_size,\n",
    "                                            decoding_scope, \n",
    "                                            output_fn)\n",
    "\n",
    "    return train_logits, infer_logits"
   ]
  },
  {
   "cell_type": "code",
   "execution_count": 65,
   "metadata": {
    "collapsed": false
   },
   "outputs": [],
   "source": [
    "def one2seq_model(input_data, target_data, keep_prob, batch_size, sequence_length, vocab_size, \n",
    "                  embedding_size, rnn_size, num_layers, vocab_to_int):\n",
    "    '''Use the previous functions to create the training and inference logits'''\n",
    "    enc_embed_input = tf.contrib.layers.embed_sequence(input_data, \n",
    "                                                       max(short_labels)+1, \n",
    "                                                       embedding_size,\n",
    "                                                       initializer = tf.random_uniform_initializer(-1,1))\n",
    "    enc_state = encoding_layer(enc_embed_input, rnn_size, num_layers, keep_prob, sequence_length)\n",
    "\n",
    "    dec_input = process_encoding_input(target_data, vocab_to_int, batch_size)\n",
    "    dec_embeddings = tf.Variable(tf.random_uniform([vocab_size+1, embedding_size], -1, 1))\n",
    "\n",
    "    dec_embed_input = tf.nn.embedding_lookup(dec_embeddings, \n",
    "                                             dec_input)\n",
    "    \n",
    "    train_logits, infer_logits = decoding_layer(dec_embed_input, \n",
    "                                                dec_embeddings, \n",
    "                                                enc_state, \n",
    "                                                vocab_size, \n",
    "                                                sequence_length, \n",
    "                                                rnn_size, \n",
    "                                                num_layers, \n",
    "                                                vocab_to_int, \n",
    "                                                keep_prob, \n",
    "                                                batch_size)\n",
    "    return train_logits, infer_logits"
   ]
  },
  {
   "cell_type": "code",
   "execution_count": 66,
   "metadata": {
    "collapsed": true
   },
   "outputs": [],
   "source": [
    "def pad_tweets_batch(tweets_batch):\n",
    "    \"\"\"Pad tweets with <PAD> so that each tweet of a batch has the same length\"\"\"\n",
    "    max_tweet = max([len(tweet) for tweet in tweets_batch])\n",
    "    return [tweet + [vocab_to_int['<PAD>']] * (max_tweet - len(tweet)) for tweet in tweets_batch]"
   ]
  },
  {
   "cell_type": "code",
   "execution_count": 67,
   "metadata": {
    "collapsed": true
   },
   "outputs": [],
   "source": [
    "def get_batches(labels, tweets, batch_size):\n",
    "    \"\"\"Batch labels and tweets together\"\"\"\n",
    "    for batch_i in range(0, len(labels)//batch_size):\n",
    "        start_i = batch_i * batch_size\n",
    "        labels_batch = np.array(labels[start_i:start_i + batch_size])\n",
    "        tweets_batch = tweets[start_i:start_i + batch_size]\n",
    "        padded_tweets_batch = np.array(pad_tweets_batch(tweets_batch))\n",
    "        yield labels_batch, padded_tweets_batch"
   ]
  },
  {
   "cell_type": "code",
   "execution_count": 68,
   "metadata": {
    "collapsed": true
   },
   "outputs": [],
   "source": [
    "# Set the Hyperparameters\n",
    "epochs = 100\n",
    "batch_size = 32\n",
    "rnn_size = 512\n",
    "num_layers = 2\n",
    "embedding_size = 200\n",
    "learning_rate = 0.005\n",
    "keep_probability = 0.5"
   ]
  },
  {
   "cell_type": "code",
   "execution_count": 69,
   "metadata": {
    "collapsed": false
   },
   "outputs": [],
   "source": [
    "# Build the graph\n",
    "train_graph = tf.Graph()\n",
    "# Set the graph to default to ensure that it is ready for training\n",
    "with train_graph.as_default():\n",
    "    \n",
    "    # Load the model inputs    \n",
    "    input_data, targets, lr, keep_prob = model_inputs()\n",
    "    # Sequence length will be the max tweet length for each batch\n",
    "    sequence_length = tf.placeholder_with_default(max_tweet_length, None, name='sequence_length')\n",
    "    # Find the shape of the input data for sequence_loss\n",
    "    input_shape = tf.shape(input_data)\n",
    "\n",
    "    # Create the training and inference logits\n",
    "    train_logits, inference_logits = one2seq_model(input_data, \n",
    "                                                   targets, \n",
    "                                                   keep_prob, \n",
    "                                                   batch_size, \n",
    "                                                   sequence_length, \n",
    "                                                   len(vocab_to_int), \n",
    "                                                   embedding_size, \n",
    "                                                   rnn_size, \n",
    "                                                   num_layers, \n",
    "                                                   vocab_to_int)\n",
    "\n",
    "    # Create a tensor for the inference logits, needed to load a checkpoint version of the model\n",
    "    tf.identity(inference_logits, 'logits')\n",
    "\n",
    "    with tf.name_scope(\"optimization\"):\n",
    "        # Loss function\n",
    "        cost = tf.contrib.seq2seq.sequence_loss(\n",
    "            train_logits,\n",
    "            targets,\n",
    "            tf.ones([input_shape[0], sequence_length]))\n",
    "\n",
    "        # Optimizer\n",
    "        optimizer = tf.train.AdamOptimizer(learning_rate)\n",
    "\n",
    "        # Gradient Clipping\n",
    "        gradients = optimizer.compute_gradients(cost)\n",
    "        capped_gradients = [(tf.clip_by_value(grad, -5., 5.), var) for grad, var in gradients if grad is not None]\n",
    "        train_op = optimizer.apply_gradients(capped_gradients)"
   ]
  },
  {
   "cell_type": "markdown",
   "metadata": {},
   "source": [
    "Note: There is no validation data because it did not prove to be a good indicator for the quality of the generated tweets. "
   ]
  },
  {
   "cell_type": "code",
   "execution_count": 71,
   "metadata": {
    "collapsed": false,
    "scrolled": true
   },
   "outputs": [
    {
     "name": "stdout",
     "output_type": "stream",
     "text": [
      "Epoch   1/100 Batch   20/68 - Loss:  5.612, Seconds: 8.12\n",
      "Epoch   1/100 Batch   40/68 - Loss:  5.004, Seconds: 13.41\n",
      "Epoch   1/100 Batch   60/68 - Loss:  5.228, Seconds: 17.58\n",
      "Average loss for this epoch: 5.319\n",
      "New Record!\n",
      "Epoch   2/100 Batch   20/68 - Loss:  3.857, Seconds: 9.14\n",
      "Epoch   2/100 Batch   40/68 - Loss:  4.254, Seconds: 14.14\n",
      "Epoch   2/100 Batch   60/68 - Loss:  4.667, Seconds: 18.45\n",
      "Average loss for this epoch: 4.363\n",
      "New Record!\n",
      "Epoch   3/100 Batch   20/68 - Loss:  3.346, Seconds: 11.80\n",
      "Epoch   3/100 Batch   40/68 - Loss:  3.829, Seconds: 25.49\n",
      "Epoch   3/100 Batch   60/68 - Loss:  4.329, Seconds: 21.70\n",
      "Average loss for this epoch: 3.954\n",
      "New Record!\n",
      "Epoch   4/100 Batch   20/68 - Loss:  2.926, Seconds: 18.06\n",
      "Epoch   4/100 Batch   40/68 - Loss:  3.477, Seconds: 13.08\n",
      "Epoch   4/100 Batch   60/68 - Loss:  4.043, Seconds: 28.92\n",
      "Average loss for this epoch: 3.613\n",
      "New Record!\n",
      "Epoch   5/100 Batch   20/68 - Loss:  2.506, Seconds: 21.18\n",
      "Epoch   5/100 Batch   40/68 - Loss:  3.253, Seconds: 15.04\n",
      "Epoch   5/100 Batch   60/68 - Loss:  3.808, Seconds: 16.86\n",
      "Average loss for this epoch: 3.328\n",
      "New Record!\n",
      "Epoch   6/100 Batch   20/68 - Loss:  2.131, Seconds: 10.33\n",
      "Epoch   6/100 Batch   40/68 - Loss:  3.000, Seconds: 11.89\n",
      "Epoch   6/100 Batch   60/68 - Loss:  3.600, Seconds: 20.65\n",
      "Average loss for this epoch: 3.059\n",
      "New Record!\n",
      "Epoch   7/100 Batch   20/68 - Loss:  1.830, Seconds: 8.71\n",
      "Epoch   7/100 Batch   40/68 - Loss:  2.786, Seconds: 17.99\n",
      "Epoch   7/100 Batch   60/68 - Loss:  3.420, Seconds: 34.78\n",
      "Average loss for this epoch: 2.834\n",
      "New Record!\n",
      "Epoch   8/100 Batch   20/68 - Loss:  1.503, Seconds: 12.34\n",
      "Epoch   8/100 Batch   40/68 - Loss:  2.598, Seconds: 26.63\n",
      "Epoch   8/100 Batch   60/68 - Loss:  3.258, Seconds: 28.73\n",
      "Average loss for this epoch: 2.612\n",
      "New Record!\n",
      "Epoch   9/100 Batch   20/68 - Loss:  1.289, Seconds: 8.11\n",
      "Epoch   9/100 Batch   40/68 - Loss:  2.356, Seconds: 15.95\n",
      "Epoch   9/100 Batch   60/68 - Loss:  3.100, Seconds: 20.55\n",
      "Average loss for this epoch: 2.416\n",
      "New Record!\n",
      "Epoch  10/100 Batch   20/68 - Loss:  1.127, Seconds: 8.93\n",
      "Epoch  10/100 Batch   40/68 - Loss:  2.157, Seconds: 15.50\n",
      "Epoch  10/100 Batch   60/68 - Loss:  2.938, Seconds: 35.22\n",
      "Average loss for this epoch: 2.242\n",
      "New Record!\n",
      "Epoch  11/100 Batch   20/68 - Loss:  0.972, Seconds: 8.88\n",
      "Epoch  11/100 Batch   40/68 - Loss:  2.062, Seconds: 12.51\n",
      "Epoch  11/100 Batch   60/68 - Loss:  2.803, Seconds: 17.55\n",
      "Average loss for this epoch: 2.113\n",
      "New Record!\n",
      "Epoch  12/100 Batch   20/68 - Loss:  0.841, Seconds: 10.26\n",
      "Epoch  12/100 Batch   40/68 - Loss:  1.877, Seconds: 13.49\n",
      "Epoch  12/100 Batch   60/68 - Loss:  2.652, Seconds: 27.24\n",
      "Average loss for this epoch: 1.959\n",
      "New Record!\n",
      "Epoch  13/100 Batch   20/68 - Loss:  0.714, Seconds: 8.99\n",
      "Epoch  13/100 Batch   40/68 - Loss:  1.730, Seconds: 13.33\n",
      "Epoch  13/100 Batch   60/68 - Loss:  2.545, Seconds: 23.51\n",
      "Average loss for this epoch: 1.835\n",
      "New Record!\n",
      "Epoch  14/100 Batch   20/68 - Loss:  0.621, Seconds: 17.58\n",
      "Epoch  14/100 Batch   40/68 - Loss:  1.584, Seconds: 13.43\n",
      "Epoch  14/100 Batch   60/68 - Loss:  2.416, Seconds: 20.08\n",
      "Average loss for this epoch: 1.711\n",
      "New Record!\n",
      "Epoch  15/100 Batch   20/68 - Loss:  0.561, Seconds: 8.43\n",
      "Epoch  15/100 Batch   40/68 - Loss:  1.494, Seconds: 16.45\n",
      "Epoch  15/100 Batch   60/68 - Loss:  2.301, Seconds: 18.13\n",
      "Average loss for this epoch: 1.619\n",
      "New Record!\n",
      "Epoch  16/100 Batch   20/68 - Loss:  0.484, Seconds: 8.08\n",
      "Epoch  16/100 Batch   40/68 - Loss:  1.360, Seconds: 15.07\n",
      "Epoch  16/100 Batch   60/68 - Loss:  2.196, Seconds: 19.52\n",
      "Average loss for this epoch: 1.515\n",
      "New Record!\n",
      "Epoch  17/100 Batch   20/68 - Loss:  0.440, Seconds: 9.14\n",
      "Epoch  17/100 Batch   40/68 - Loss:  1.302, Seconds: 13.19\n",
      "Epoch  17/100 Batch   60/68 - Loss:  2.066, Seconds: 19.28\n",
      "Average loss for this epoch: 1.433\n",
      "New Record!\n",
      "Epoch  18/100 Batch   20/68 - Loss:  0.382, Seconds: 7.94\n",
      "Epoch  18/100 Batch   40/68 - Loss:  1.203, Seconds: 22.14\n",
      "Epoch  18/100 Batch   60/68 - Loss:  1.998, Seconds: 20.02\n",
      "Average loss for this epoch: 1.358\n",
      "New Record!\n",
      "Epoch  19/100 Batch   20/68 - Loss:  0.353, Seconds: 8.92\n",
      "Epoch  19/100 Batch   40/68 - Loss:  1.145, Seconds: 12.25\n",
      "Epoch  19/100 Batch   60/68 - Loss:  1.921, Seconds: 29.16\n",
      "Average loss for this epoch: 1.302\n",
      "New Record!\n",
      "Epoch  20/100 Batch   20/68 - Loss:  0.352, Seconds: 10.01\n",
      "Epoch  20/100 Batch   40/68 - Loss:  1.096, Seconds: 13.66\n",
      "Epoch  20/100 Batch   60/68 - Loss:  1.830, Seconds: 18.42\n",
      "Average loss for this epoch: 1.249\n",
      "New Record!\n",
      "Epoch  21/100 Batch   20/68 - Loss:  0.344, Seconds: 8.81\n",
      "Epoch  21/100 Batch   40/68 - Loss:  1.013, Seconds: 24.53\n",
      "Epoch  21/100 Batch   60/68 - Loss:  1.761, Seconds: 19.94\n",
      "Average loss for this epoch: 1.192\n",
      "New Record!\n",
      "Epoch  22/100 Batch   20/68 - Loss:  0.310, Seconds: 7.70\n",
      "Epoch  22/100 Batch   40/68 - Loss:  0.979, Seconds: 12.03\n",
      "Epoch  22/100 Batch   60/68 - Loss:  1.705, Seconds: 18.76\n",
      "Average loss for this epoch: 1.144\n",
      "New Record!\n",
      "Epoch  23/100 Batch   20/68 - Loss:  0.278, Seconds: 7.80\n",
      "Epoch  23/100 Batch   40/68 - Loss:  0.954, Seconds: 13.09\n",
      "Epoch  23/100 Batch   60/68 - Loss:  1.649, Seconds: 19.45\n",
      "Average loss for this epoch: 1.105\n",
      "New Record!\n",
      "Epoch  24/100 Batch   20/68 - Loss:  0.281, Seconds: 8.31\n",
      "Epoch  24/100 Batch   40/68 - Loss:  0.896, Seconds: 14.29\n",
      "Epoch  24/100 Batch   60/68 - Loss:  1.610, Seconds: 16.93\n",
      "Average loss for this epoch: 1.073\n",
      "New Record!\n",
      "Epoch  25/100 Batch   20/68 - Loss:  0.269, Seconds: 9.38\n",
      "Epoch  25/100 Batch   40/68 - Loss:  0.892, Seconds: 14.00\n",
      "Epoch  25/100 Batch   60/68 - Loss:  1.551, Seconds: 18.82\n",
      "Average loss for this epoch: 1.046\n",
      "New Record!\n",
      "Epoch  26/100 Batch   20/68 - Loss:  0.259, Seconds: 10.89\n",
      "Epoch  26/100 Batch   40/68 - Loss:  0.846, Seconds: 12.65\n",
      "Epoch  26/100 Batch   60/68 - Loss:  1.496, Seconds: 17.40\n",
      "Average loss for this epoch: 1.004\n",
      "New Record!\n",
      "Epoch  27/100 Batch   20/68 - Loss:  0.252, Seconds: 7.69\n",
      "Epoch  27/100 Batch   40/68 - Loss:  0.818, Seconds: 13.93\n",
      "Epoch  27/100 Batch   60/68 - Loss:  1.478, Seconds: 26.15\n",
      "Average loss for this epoch: 0.986\n",
      "New Record!\n",
      "Epoch  28/100 Batch   20/68 - Loss:  0.229, Seconds: 8.56\n",
      "Epoch  28/100 Batch   40/68 - Loss:  0.785, Seconds: 11.76\n",
      "Epoch  28/100 Batch   60/68 - Loss:  1.427, Seconds: 17.80\n",
      "Average loss for this epoch: 0.948\n",
      "New Record!\n",
      "Epoch  29/100 Batch   20/68 - Loss:  0.230, Seconds: 16.69\n",
      "Epoch  29/100 Batch   40/68 - Loss:  0.788, Seconds: 13.76\n",
      "Epoch  29/100 Batch   60/68 - Loss:  1.415, Seconds: 26.18\n",
      "Average loss for this epoch: 0.941\n",
      "New Record!\n",
      "Epoch  30/100 Batch   20/68 - Loss:  0.237, Seconds: 14.53\n",
      "Epoch  30/100 Batch   40/68 - Loss:  0.738, Seconds: 17.20\n",
      "Epoch  30/100 Batch   60/68 - Loss:  1.378, Seconds: 20.68\n",
      "Average loss for this epoch: 0.91\n",
      "New Record!\n",
      "Epoch  31/100 Batch   20/68 - Loss:  0.232, Seconds: 9.86\n",
      "Epoch  31/100 Batch   40/68 - Loss:  0.721, Seconds: 13.31\n",
      "Epoch  31/100 Batch   60/68 - Loss:  1.339, Seconds: 25.32\n",
      "Average loss for this epoch: 0.89\n",
      "New Record!\n",
      "Epoch  32/100 Batch   20/68 - Loss:  0.211, Seconds: 17.49\n",
      "Epoch  32/100 Batch   40/68 - Loss:  0.712, Seconds: 15.56\n",
      "Epoch  32/100 Batch   60/68 - Loss:  1.320, Seconds: 24.27\n",
      "Average loss for this epoch: 0.872\n",
      "New Record!\n",
      "Epoch  33/100 Batch   20/68 - Loss:  0.213, Seconds: 8.45\n",
      "Epoch  33/100 Batch   40/68 - Loss:  0.681, Seconds: 12.02\n",
      "Epoch  33/100 Batch   60/68 - Loss:  1.291, Seconds: 19.01\n",
      "Average loss for this epoch: 0.851\n",
      "New Record!\n",
      "Epoch  34/100 Batch   20/68 - Loss:  0.203, Seconds: 9.08\n",
      "Epoch  34/100 Batch   40/68 - Loss:  0.669, Seconds: 12.47\n",
      "Epoch  34/100 Batch   60/68 - Loss:  1.268, Seconds: 18.45\n",
      "Average loss for this epoch: 0.837\n",
      "New Record!\n",
      "Epoch  35/100 Batch   20/68 - Loss:  0.202, Seconds: 8.31\n",
      "Epoch  35/100 Batch   40/68 - Loss:  0.644, Seconds: 12.01\n",
      "Epoch  35/100 Batch   60/68 - Loss:  1.232, Seconds: 19.17\n",
      "Average loss for this epoch: 0.81\n",
      "New Record!\n",
      "Epoch  36/100 Batch   20/68 - Loss:  0.199, Seconds: 7.75\n",
      "Epoch  36/100 Batch   40/68 - Loss:  0.661, Seconds: 12.98\n",
      "Epoch  36/100 Batch   60/68 - Loss:  1.203, Seconds: 19.20\n",
      "Average loss for this epoch: 0.803\n",
      "New Record!\n",
      "Epoch  37/100 Batch   20/68 - Loss:  0.182, Seconds: 8.55\n",
      "Epoch  37/100 Batch   40/68 - Loss:  0.637, Seconds: 33.53\n",
      "Epoch  37/100 Batch   60/68 - Loss:  1.189, Seconds: 19.42\n",
      "Average loss for this epoch: 0.782\n",
      "New Record!\n",
      "Epoch  38/100 Batch   20/68 - Loss:  0.185, Seconds: 9.49\n",
      "Epoch  38/100 Batch   40/68 - Loss:  0.625, Seconds: 12.80\n",
      "Epoch  38/100 Batch   60/68 - Loss:  1.150, Seconds: 17.76\n",
      "Average loss for this epoch: 0.764\n",
      "New Record!\n",
      "Epoch  39/100 Batch   20/68 - Loss:  0.187, Seconds: 8.28\n",
      "Epoch  39/100 Batch   40/68 - Loss:  0.599, Seconds: 16.26\n",
      "Epoch  39/100 Batch   60/68 - Loss:  1.129, Seconds: 23.34\n",
      "Average loss for this epoch: 0.752\n",
      "New Record!\n",
      "Epoch  40/100 Batch   20/68 - Loss:  0.190, Seconds: 8.58\n",
      "Epoch  40/100 Batch   40/68 - Loss:  0.594, Seconds: 18.49\n",
      "Epoch  40/100 Batch   60/68 - Loss:  1.149, Seconds: 22.80\n",
      "Average loss for this epoch: 0.759\n",
      "No Improvement.\n",
      "Epoch  41/100 Batch   20/68 - Loss:  0.193, Seconds: 9.70\n",
      "Epoch  41/100 Batch   40/68 - Loss:  0.606, Seconds: 21.37\n",
      "Epoch  41/100 Batch   60/68 - Loss:  1.152, Seconds: 20.32\n",
      "Average loss for this epoch: 0.764\n",
      "No Improvement.\n",
      "Epoch  42/100 Batch   20/68 - Loss:  0.191, Seconds: 7.89\n",
      "Epoch  42/100 Batch   40/68 - Loss:  0.605, Seconds: 12.51\n",
      "Epoch  42/100 Batch   60/68 - Loss:  1.134, Seconds: 30.57\n",
      "Average loss for this epoch: 0.756\n",
      "No Improvement.\n",
      "Stopping Training.\n"
     ]
    }
   ],
   "source": [
    "# Train the Model\n",
    "learning_rate_decay = 0.9\n",
    "min_learning_rate = 0.0005\n",
    "display_step = 20 # Check training loss after every 20 batches\n",
    "stop_early = 0 \n",
    "stop = 3 # If the epoch loss does decrease in 3 consecutive epochs, stop training\n",
    "epoch_check = ((len(sorted_labels))//batch_size)-1 # Modulus for checking epoch loss\n",
    "epoch_loss = 0 \n",
    "batch_loss = 0\n",
    "summary_epoch_loss = [] # Record the epoch loss for saving improvements in the model\n",
    "\n",
    "checkpoint = \"best_model.ckpt\" \n",
    "\n",
    "with tf.Session(graph=train_graph) as sess:\n",
    "    sess.run(tf.global_variables_initializer())\n",
    "\n",
    "    for epoch_i in range(1, epochs+1):\n",
    "        epoch_loss = 0\n",
    "        batch_loss = 0\n",
    "        \n",
    "        for batch_i, (labels_batch, tweets_batch) in enumerate(\n",
    "                get_batches(sorted_labels, sorted_tweets, batch_size)):\n",
    "            start_time = time.time()\n",
    "            _, loss = sess.run(\n",
    "                [train_op, cost],\n",
    "                {input_data: labels_batch,\n",
    "                 targets: tweets_batch,\n",
    "                 lr: learning_rate,\n",
    "                 sequence_length: tweets_batch.shape[1],\n",
    "                 keep_prob: keep_probability})\n",
    "\n",
    "            batch_loss += loss\n",
    "            epoch_loss += loss\n",
    "            end_time = time.time()\n",
    "            batch_time = end_time - start_time\n",
    "\n",
    "            if batch_i % display_step == 0 and batch_i > 0:\n",
    "                print('Epoch {:>3}/{} Batch {:>4}/{} - Loss: {:>6.3f}, Seconds: {:>4.2f}'\n",
    "                      .format(epoch_i,\n",
    "                              epochs, \n",
    "                              batch_i, \n",
    "                              len(sorted_labels) // batch_size, \n",
    "                              batch_loss / display_step, \n",
    "                              batch_time*display_step))\n",
    "                batch_loss = 0\n",
    "\n",
    "            if batch_i % epoch_check == 0 and batch_i > 0:\n",
    "                print(\"Average loss for this epoch:\", round(epoch_loss/epoch_check,3))\n",
    "                summary_epoch_loss.append(epoch_loss)\n",
    "                \n",
    "                # If the epoch loss is at a new minimum, save the model\n",
    "                if epoch_loss <= min(summary_epoch_loss):\n",
    "                    print('New Record!') \n",
    "                    stop_early = 0\n",
    "                    saver = tf.train.Saver() \n",
    "                    saver.save(sess, checkpoint)\n",
    "\n",
    "                else:\n",
    "                    print(\"No Improvement.\")\n",
    "                    stop_early += 1\n",
    "                    if stop_early == stop:\n",
    "                        break\n",
    "                    \n",
    "        # Reduce learning rate, but not below its minimum value\n",
    "        learning_rate *= learning_rate_decay\n",
    "        if learning_rate < min_learning_rate:\n",
    "            learning_rate = min_learning_rate\n",
    "        \n",
    "        if stop_early == stop:\n",
    "            print(\"Stopping Training.\")\n",
    "            break"
   ]
  },
  {
   "cell_type": "markdown",
   "metadata": {},
   "source": [
    "## Generate New Tweets"
   ]
  },
  {
   "cell_type": "code",
   "execution_count": 72,
   "metadata": {
    "collapsed": true
   },
   "outputs": [],
   "source": [
    "def vectorize_tweet(tweet):\n",
    "    '''Just like for the training data, this creates the average embedding for the inputted tweet'''\n",
    "    vect_tweet = []\n",
    "    vectors = np.zeros(embedding_dim)\n",
    "    for word in tweet.split():\n",
    "        vector = embeddings_index.get(word)\n",
    "        if vector is not None:\n",
    "            vectors += vector\n",
    "    return vectors/len(tweet.split())"
   ]
  },
  {
   "cell_type": "code",
   "execution_count": 79,
   "metadata": {
    "collapsed": false
   },
   "outputs": [
    {
     "name": "stdout",
     "output_type": "stream",
     "text": [
      "3464\n"
     ]
    },
    {
     "name": "stderr",
     "output_type": "stream",
     "text": [
      "//anaconda/lib/python3.5/site-packages/sklearn/utils/validation.py:395: DeprecationWarning: Passing 1d arrays as data is deprecated in 0.17 and will raise ValueError in 0.19. Reshape your data either using X.reshape(-1, 1) if your data has a single feature or X.reshape(1, -1) if it contains a single sample.\n",
      "  DeprecationWarning)\n"
     ]
    }
   ],
   "source": [
    "# Create a tweet and it will be matched to the closest tweet from the dataset\n",
    "create_tweet = \"I need your help to make america great again! #maga\"\n",
    "\n",
    "create_tweet = clean_tweet(create_tweet)\n",
    "\n",
    "create_tweet_vect = vectorize_tweet(create_tweet)\n",
    "\n",
    "create_tweet_pca = pca.transform(create_tweet_vect)\n",
    "\n",
    "# We need to match the tweet so that we can find its appropriate PCA label\n",
    "similar_tweet = min(pca_tweets_list, key=lambda x:abs(x-create_tweet_pca))\n",
    "\n",
    "for tweet in enumerate(pca_tweets_list):\n",
    "    if tweet[1] == similar_tweet:\n",
    "        print(pca_labels[tweet[0]])\n",
    "        break"
   ]
  },
  {
   "cell_type": "markdown",
   "metadata": {},
   "source": [
    "You can use the outputted value above as your tweet_type. This will show you the tweet, from the training data, that is most similar to your created tweet. You might notice that your created tweet does not look like the most similar tweet. The is partially due to the lack of data that we are working with and the limitations of how our input data was created."
   ]
  },
  {
   "cell_type": "code",
   "execution_count": 80,
   "metadata": {
    "collapsed": false
   },
   "outputs": [
    {
     "name": "stdout",
     "output_type": "stream",
     "text": [
      "hillary is the most corrupt person to ever run for the presidency of the united states # draintheswamp\n",
      "\n",
      "Tweet type in training data: False\n"
     ]
    }
   ],
   "source": [
    "# Prints the tweet that has the closest label to your tweet type.\n",
    "# Note: Odd values are not in the dataset. You should use these values to generate new tweets.\n",
    "# Note2: If you generate a tweet using a tweet_type that is in the training data,     \n",
    "#        it will likely reproduce that same tweet.\n",
    "tweet_type = 3464\n",
    "\n",
    "closest_type = min(short_labels, key=lambda x:abs(x-tweet_type))\n",
    "words = []\n",
    "for tweet in enumerate(short_labels):\n",
    "    if tweet[1] == closest_type:\n",
    "        for num in short_tweets[tweet[0]]:\n",
    "            words.append(int_to_vocab[num])\n",
    "print(\" \".join(words))\n",
    "print()\n",
    "print(\"Tweet type in training data:\", tweet_type in short_labels)"
   ]
  },
  {
   "cell_type": "code",
   "execution_count": 76,
   "metadata": {
    "collapsed": false
   },
   "outputs": [
    {
     "name": "stdout",
     "output_type": "stream",
     "text": [
      "0 , 14736\n"
     ]
    }
   ],
   "source": [
    "# The range of tweet types that were used in the training data.\n",
    "# I recommend that you stay within this range to produce the best tweets, but give larger values a try too.\n",
    "print(min(short_labels), \",\", max(short_labels))"
   ]
  },
  {
   "cell_type": "markdown",
   "metadata": {},
   "source": [
    "As the reminder, the 4 tweet groups had the ranges:\n",
    "1. 14,400 - 14,736\n",
    "  - ex. # makeamericagreatagain  # 6days \n",
    "2. 5,500 - 11,000 \n",
    "  - ex. rt  @ donaldjtrumpjr :  final push ! eric and i doing dozens of radio interviews we can win this thing ! get out and vote !  # maga  # electionday\n",
    "3. 11,000 - 14,400 \n",
    "  - ex. watching the returns at 9 : 45 pm # electionnight  # maga \n",
    "4. 0 - 5,500\n",
    "  - ex. busy day planned in new york will soon be making some very important decisions on the people who will be running our government !"
   ]
  },
  {
   "cell_type": "code",
   "execution_count": 78,
   "metadata": {
    "collapsed": false
   },
   "outputs": [
    {
     "name": "stdout",
     "output_type": "stream",
     "text": [
      "Tweet\n",
      "  Word Ids:      [1247, 908, 809, 881, 224, 1334, 224, 719]\n",
      "  Tweet: thank you arizona ! # makeamericagreatagain # trump2016\n"
     ]
    }
   ],
   "source": [
    "# Select type of tweet\n",
    "tweet_type = 14501\n",
    "\n",
    "checkpoint = \"./\" + checkpoint\n",
    "\n",
    "loaded_graph = tf.Graph()\n",
    "with tf.Session(graph=loaded_graph) as sess:\n",
    "    # Load saved model\n",
    "    loader = tf.train.import_meta_graph(checkpoint + '.meta')\n",
    "    loader.restore(sess, checkpoint)\n",
    "\n",
    "    input_data = loaded_graph.get_tensor_by_name('input:0')\n",
    "    logits = loaded_graph.get_tensor_by_name('logits:0')\n",
    "    sequence_length = loaded_graph.get_tensor_by_name('sequence_length:0')\n",
    "    keep_prob = loaded_graph.get_tensor_by_name('keep_prob:0')\n",
    "\n",
    "    tweet_logits = sess.run(logits, {input_data: [[tweet_type]], \n",
    "                                     sequence_length: np.random.randint(3,15),\n",
    "                                     keep_prob: 1.0})[0] \n",
    "\n",
    "# Remove the padding from the tweet\n",
    "pad = vocab_to_int[\"<PAD>\"]\n",
    "\n",
    "print('Tweet')\n",
    "print('  Word Ids:      {}'.format([i for i in np.argmax(tweet_logits, 1) if i != pad]))\n",
    "print('  Tweet: {}'.format(\" \".join([int_to_vocab[i] for i in np.argmax(tweet_logits, 1) if i != pad])))"
   ]
  },
  {
   "cell_type": "markdown",
   "metadata": {},
   "source": [
    "## Summary"
   ]
  },
  {
   "cell_type": "markdown",
   "metadata": {},
   "source": [
    "I hope that you enjoyed this project and learned something from it. From the amount of data that we are working with, I am very pleased with the quality of generated tweets. It would be nice to have more control over the type of tweet that we are generating. Having the ability to use a key word would be useful, but this would also alter the structure of the input, which I think is one of the best features of the model. I really like how such a simple input can generate a very good, and somewhat intended tweet (the style of the tweet can be reasonably managed).\n",
    "\n",
    "Thanks for reading!"
   ]
  },
  {
   "cell_type": "code",
   "execution_count": null,
   "metadata": {
    "collapsed": true
   },
   "outputs": [],
   "source": []
  }
 ],
 "metadata": {
  "anaconda-cloud": {},
  "kernelspec": {
   "display_name": "Python [default]",
   "language": "python",
   "name": "python3"
  },
  "language_info": {
   "codemirror_mode": {
    "name": "ipython",
    "version": 3
   },
   "file_extension": ".py",
   "mimetype": "text/x-python",
   "name": "python",
   "nbconvert_exporter": "python",
   "pygments_lexer": "ipython3",
   "version": "3.5.2"
  }
 },
 "nbformat": 4,
 "nbformat_minor": 1
}
